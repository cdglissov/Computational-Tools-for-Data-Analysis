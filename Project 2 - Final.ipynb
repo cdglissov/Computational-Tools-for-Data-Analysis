{
 "cells": [
  {
   "cell_type": "markdown",
   "metadata": {},
   "source": [
    "# Project 2: Web Traffic Analysis\n",
    "**This is the second of three mandatory projects to be handed in as part of the assessment for the course 02807 Computational Tools for Data Science at Technical University of Denmark, autumn 2019.**\n",
    "\n",
    "#### Practical info\n",
    "- **The project is to be done in groups of at most 3 students**\n",
    "- **Each group has to hand in _one_ Jupyter notebook (this notebook) with their solution**\n",
    "- **The hand-in of the notebook is due 2019-11-10, 23:59 on DTU Inside**\n",
    "\n",
    "#### Your solution\n",
    "- **Your solution should be in Python**\n",
    "- **For each question you may use as many cells for your solution as you like**\n",
    "- **You should document your solution and explain the choices you've made (for example by using multiple cells and use Markdown to assist the reader of the notebook)**\n",
    "- **You should not remove the problem statements**\n",
    "- **Your notebook should be runnable, i.e., clicking [>>] in Jupyter should generate the result that you want to be assessed**\n",
    "- **You are not expected to use machine learning to solve any of the exercises**\n",
    "- **You will be assessed according to correctness and readability of your code, choice of solution, choice of tools and libraries, and documentation of your solution**"
   ]
  },
  {
   "cell_type": "markdown",
   "metadata": {},
   "source": [
    "## Introduction\n",
    "In this project your task is to analyze a stream of log entries. A log entry consists of an [IP address](https://en.wikipedia.org/wiki/IP_address) and a [domain name](https://en.wikipedia.org/wiki/Domain_name). For example, a log line may look as follows:\n",
    "\n",
    "`192.168.0.1 somedomain.dk`\n",
    "\n",
    "One log line is the result of the event that the domain name was visited by someone having the corresponding IP address. Your task is to analyze the traffic on a number of domains. Counting the number of unique IPs seen on a domain doesn't correspond to the exact number of unique visitors, but it is a good estimate.\n",
    "\n",
    "Specifically, you should answer the following questions from the stream of log entries.\n",
    "\n",
    "- How many unique IPs are there in the stream?\n",
    "- How many unique IPs are there for each domain?\n",
    "- How many times was IP X seen on domain Y? (for some X and Y provided at run time)\n",
    "\n",
    "**The answers to these questions can be approximate!**\n",
    "\n",
    "You should also try to answer one or more of the following, more advanced, questions. The answers to these should also be approximate.\n",
    "\n",
    "- How many unique IPs are there for the domains $d_1, d_2, \\ldots$?\n",
    "- How many times was IP X seen on domains $d_1, d_2, \\ldots$?\n",
    "- What are the X most frequent IPs in the stream?\n",
    "\n",
    "You should use algorithms and data structures that you've learned about in the lectures, and you should provide your own implementations of these.\n",
    "\n",
    "Furthermore, you are expected to:\n",
    "\n",
    "- Document the accuracy of your answers when using algorithms that give approximate answers\n",
    "- Argue why you are using certain parameters for your data structures\n",
    "\n",
    "This notebook is in three parts. In the first part you are given an example of how to read from the stream (which for the purpose of this project is a remote file). In the second part you should implement the algorithms and data structures that you intend to use, and in the last part you should use these for analyzing the stream."
   ]
  },
  {
   "cell_type": "markdown",
   "metadata": {},
   "source": [
    "## Reading the stream\n",
    "The following code reads a remote file line by line. It is wrapped in a generator to make it easier to extend. You may modify this if you want to, but your solution should remain parametrized, so that your notebook can be run without having to consume the entire file."
   ]
  },
  {
   "cell_type": "markdown",
   "metadata": {},
   "source": [
    "# Reading the stream"
   ]
  },
  {
   "cell_type": "code",
   "execution_count": 1,
   "metadata": {},
   "outputs": [],
   "source": [
    "def stream(n):\n",
    "    i = 0\n",
    "    with urllib.request.urlopen('https://files.dtu.dk/fss/public/link/public/stream/read/traffic_2?linkToken=_DcyO-U3MjjuNzI-&itemName=traffic_2') as f:\n",
    "        for line in f:\n",
    "            element = line.rstrip().decode(\"utf-8\")\n",
    "            yield element\n",
    "            i += 1\n",
    "            if i == n:\n",
    "                break"
   ]
  },
  {
   "cell_type": "code",
   "execution_count": 2,
   "metadata": {},
   "outputs": [],
   "source": [
    "STREAM_SIZE = 100000\n",
    "web_traffic_stream = stream(STREAM_SIZE)"
   ]
  },
  {
   "cell_type": "markdown",
   "metadata": {},
   "source": [
    "# Libraries"
   ]
  },
  {
   "cell_type": "code",
   "execution_count": 3,
   "metadata": {},
   "outputs": [],
   "source": [
    "import numpy as np\n",
    "import urllib\n",
    "import matplotlib.pyplot as plt\n",
    "import math\n",
    "import mmh3"
   ]
  },
  {
   "cell_type": "markdown",
   "metadata": {},
   "source": [
    "# Data structures"
   ]
  },
  {
   "cell_type": "markdown",
   "metadata": {},
   "source": [
    "For this assignment we implement to classes of skecthes. The first is the HyperLogLog sketch, that is used to estimate the number of unique elements in a stream. The second is the CountMin Sketch, that (over)counts the frequency by which each elements occurs in the stream. To solve the problems, both type of sketches are used in different ways and with slight adjustments, that will be described along the solutions."
   ]
  },
  {
   "cell_type": "markdown",
   "metadata": {},
   "source": [
    "## HyperLogLog class\n",
    "Below the HyperLogLog algorithm is implemented based on the paper (1). It is used to create an efficient data structure for computing the number of distinct elements in a stream. The class consists of a range of functions, the init function will initialize specified parameters and the M registers. The $\\texttt{getAlpha()}$ function will act as a correcting constant for the harmonic mean based on the chosen parameter $b$ defining the size of the $M$ registers. We then construct the $M$ registers by using a hash function turning the IPs into binary bits. The idea is, that the more leading zeros a binary part contains, the more unlikely it is to observe. Hence, it would statistically require more unique elements in the stream before observing this. <br> Finally when $M$ has been constructed, the raw estimate of the estimated distinct count can be found. To correct for large and small values, a corrector function is also included. To find accuracies a function for the confidence interval can also be called.\n",
    "\n",
    "<br>\n",
    "(1) Philippe Flajolet, Eric Fusy, Olivier Gandouet, Frédéric Meunier. HyperLogLog: the analysis of a near-optimal cardinality estimation algorithm. Analysis of Algorithms 2007 (AofA07), Jun 2007, Juan les pins, France. pp.127–146. ffhal-00406166v1f\n"
   ]
  },
  {
   "cell_type": "code",
   "execution_count": 4,
   "metadata": {},
   "outputs": [],
   "source": [
    "\"\"\"\n",
    "A framework for using the HyperLogLog algorithm to approximate the number of distinct elements in a multiset.\n",
    "Args:\n",
    "    b: Integer, indicates the number of substreams to use for the matrix M.\n",
    "    IP, domains: Strings, Stream inputs\n",
    "    M2, M: m x m, Matrix registers to store substreams for averaging harmonic mean\n",
    "    level: integer, sets the level of the confidence\n",
    "\"\"\"\n",
    "class HyperLogLog:\n",
    "    def __init__(self, b = 10):\n",
    "        try:\n",
    "            assert 4 <= b & b <= 16\n",
    "        except:\n",
    "            print(\"b needs to be an integer in [4,16]\")\n",
    "        self.b = b\n",
    "        self.m = 2**self.b\n",
    "        self.M = np.zeros(self.m)\n",
    "        self.alpha = self.getAlpha()\n",
    "    \n",
    "    #Update alpha value based on m to give correct raw estimate of the harmonic mean\n",
    "    def getAlpha(self):\n",
    "        if self.m== 16:\n",
    "            self.alpha = 0.673\n",
    "        elif self.m==32:\n",
    "            self.alpha=0.697\n",
    "        elif self.m == 64:\n",
    "            self.alpha=0.709\n",
    "        else:\n",
    "            self.alpha =0.7213/(1+1.079/self.m)\n",
    "        return self.alpha\n",
    "    \n",
    "    #Update the matrix M for each substream.\n",
    "    def updateCounter(self,IP, seed=42):\n",
    "        \n",
    "        # 32-bit Hash, convert to binary\n",
    "        x = bin(mmh3.hash(IP, signed=False, seed=seed))\n",
    "        \n",
    "        # Remove inappropiate formatting and paddin 0s to achieve correct length\n",
    "        x = x[2:].zfill(int(math.log(2**32,2)))\n",
    "        \n",
    "        # We do not +1, since python is 0 index\n",
    "        j = int(x[0:self.b],2)\n",
    "        w = x[self.b:]\n",
    "        \n",
    "        # Increment by 1 so we avoid -1\n",
    "        p_w = w.find('1') + 1\n",
    "        self.M[j] = max(self.M[j],p_w)\n",
    "        return self.M\n",
    "    \n",
    "    #Calculate the raw harmonic mean E.\n",
    "    def getRawEstimator(self):\n",
    "        Z = 1/np.sum(2**(-1*self.M))\n",
    "        E = self.alpha * self.m**2 * Z\n",
    "        return E\n",
    "    \n",
    "    # Corrector function to adjust the harmonic mean \n",
    "    # based on the size of the estimated count\n",
    "    def count(self):\n",
    "        # Small range correction\n",
    "        E=self.getRawEstimator()\n",
    "        if E <= 5/2 * self.m:\n",
    "            V = np.sum(self.M == 0)\n",
    "            \n",
    "            # If some buckets are still empty\n",
    "            if V != 0:\n",
    "                #Linear Counting\n",
    "                E_opt = self.m*math.log(self.m/V)\n",
    "        \n",
    "        # No correction\n",
    "        elif E <= 1/30*2**32:\n",
    "            E_opt = E\n",
    "        \n",
    "        # Large range correction\n",
    "        else:\n",
    "            E_opt = -2**32*math.log(1-E/2**32)\n",
    "        return E_opt\n",
    "    \n",
    "    # If more domains given, then find the union of M for each specified \n",
    "    # domain to avoid IP duplicates in domains.\n",
    "    def unionCount(self, domains, M2):\n",
    "        M=np.zeros(self.m)\n",
    "        for d in range(len(domains)):\n",
    "            for i in range(self.m):\n",
    "                M[i]=max(M[i], M2[domains[d]][i])\n",
    "        self.M=M\n",
    "        unionCount=self.count()\n",
    "        return unionCount\n",
    "    \n",
    "    # Find confidence interval of the HyperLogLog count estimate.\n",
    "    def confint(self, level):\n",
    "        sigma=1.04*1/np.sqrt(HLL.m)\n",
    "        #define confidence interval level\n",
    "        if level == 65:\n",
    "            sigma=sigma\n",
    "        elif level == 95:\n",
    "            sigma=2*sigma\n",
    "        elif level == 99:\n",
    "            sigma=3*sigma\n",
    "               \n",
    "        # Compjute upper and lower conf bound\n",
    "        est = int(np.round(HLL.count()))\n",
    "        lwr = int(np.floor(HLL.count() - HLL.count()*sigma))\n",
    "        upr = int(np.ceil(HLL.count() + HLL.count()*sigma))\n",
    "        return lwr, est, upr, \"Std of estimation: \"+str(round(HLL.count()*sigma,1))"
   ]
  },
  {
   "cell_type": "markdown",
   "metadata": {},
   "source": [
    "### HyperLogLog register across all domains\n",
    "\n",
    "Here the register matrix M is updated for each substream, so it can be used to find the harmonic mean $E$."
   ]
  },
  {
   "cell_type": "code",
   "execution_count": 5,
   "metadata": {},
   "outputs": [],
   "source": [
    "web_traffic_stream = stream(STREAM_SIZE)\n",
    "\n",
    "HLL = HyperLogLog(b=9)\n",
    "\n",
    "# Construct the data structure\n",
    "for i in web_traffic_stream:\n",
    "    IP,domain = i.split(\"\\t\")\n",
    "    # Update M for each substream, IP.\n",
    "    MIPall = HLL.updateCounter(IP)"
   ]
  },
  {
   "cell_type": "markdown",
   "metadata": {},
   "source": [
    "### HyperLogLog register for each domain"
   ]
  },
  {
   "cell_type": "code",
   "execution_count": 6,
   "metadata": {},
   "outputs": [],
   "source": [
    "web_traffic_stream = stream(STREAM_SIZE)\n",
    "\n",
    "HLL = HyperLogLog(b=9)\n",
    "MforEachUniqueDomain = {}\n",
    "\n",
    "for i in web_traffic_stream:\n",
    "    IP,domain = i.split(\"\\t\")\n",
    "    \n",
    "    # If domain doesn't exist, create new M in dict\n",
    "    if domain not in MforEachUniqueDomain:\n",
    "        MforEachUniqueDomain[domain]=np.zeros(HLL.m)\n",
    "        \n",
    "    # We get a unique M for each domain, so we set M in HLL class\n",
    "    HLL.M=MforEachUniqueDomain[domain]\n",
    "    \n",
    "    # Update counters for relevant domain\n",
    "    MforEachUniqueDomain[domain] = HLL.updateCounter(IP)"
   ]
  },
  {
   "cell_type": "markdown",
   "metadata": {},
   "source": [
    "## CountMin Sketch class\n",
    "Below the CountMin Sketch algorithm is implemented as a class based on the description provided at lectures. It is used to construct a sketch for estimating the frequency of the distinct elements in a stream without storing these. The class consists of a range of functions, the init function will initialize specified parameters and a $d \\times w$ matrix, $M$ with zeros. When an element arrives, the IP string is hashed using $d$ different hash functions from the same family, all hasing to an interger between $0$ and $w$. The $M_{i,h_i(\\text{IP})}, d \\in \\{1,...,d\\}$ is incremented where $h_i(\\text{IP})$ is the hashed value of the IP using hash function $i$. After running through the entire stream, the estimated frequency of an element $e$ will be the minimum value of $M_{i,h_i(e)}, d \\in \\{1,...,d\\}$. The motivation for making $d$ estimates and choosing the smallest is to avoid getting corrupted results due to collisions. There is $1/w$ chance that two different IPs will map to the same value resulting in a wrong final estimate. However, there is only $1/(w^d)$ that two elements collide in every of the $d$ hash functions. This requires $w \\cdot d$ registers. This is, the probability of not being able to distinct to elements in the sketch can be dramatically decreased by only requiring $d$ times a much memory usage. If we was to achieve the same decrease in probability by simply increasing $w$ and not making multiple array, we should increase to $w^d$ which would require $m^d \\gg m \\cdot d$ registers. A huge save in memory usage.\n",
    "\n",
    "<br>"
   ]
  },
  {
   "cell_type": "code",
   "execution_count": 7,
   "metadata": {},
   "outputs": [],
   "source": [
    "\"\"\"\n",
    "A framework for creating a ContMinSketch to approximate the frequency of elements in a stream.\n",
    "Args:\n",
    "    epsilon: Float, how many factors the estimate i allowed to be from the true value\n",
    "    delta: Float, between 0 and 1. 1-delta is the probability that the true value is with epsilon factors from the estimate.\n",
    "    IP, domains: Strings, Stream inputs\n",
    "\"\"\"\n",
    "class CountMinSketch:\n",
    "    def __init__(self, epsilon = 0.0001, delta = 0.001):\n",
    "        self.w = int(np.ceil(np.exp(1)/epsilon))\n",
    "        self.d = int(np.ceil(np.log(1/delta)))\n",
    "        try:\n",
    "            assert (0 < delta) and (1 > delta)\n",
    "            assert (self.w < 2**32)\n",
    "        except:\n",
    "            print(\"delta needs to be between 1 and 0, epsilon more than 6.328993078*10^(-10)\")\n",
    "        self.M = np.zeros((self.d,self.w)) # The CountMinSketch\n",
    "        self.frequentItem = dict()\n",
    "    \n",
    "    def updateCountMinSketch(self,IP,seed=42): #string,M,b\n",
    "        \n",
    "        # Find the d coloumns that the IP hashes to\n",
    "        hashCols = [mmh3.hash(IP, seed = i) % self.w for i in range(self.d)]\n",
    "        \n",
    "        # Increment the counters\n",
    "        self.M[range(self.d),hashCols] += 1\n",
    "        \n",
    "        return(self.M)\n",
    "            \n",
    "\n",
    "    def count(self,IP,seed=42):\n",
    "        \n",
    "        # Find the d coloumns that the IP hashes to\n",
    "        hashCols = [mmh3.hash(IP, seed = i) % self.w for i in range(self.d)]\n",
    "        \n",
    "        # Fin the minimal value of the counters\n",
    "        counts = self.M[range(self.d),hashCols]\n",
    "        return min(counts)\n",
    "        \n",
    "    def countMostFrequentOnTheFly(self,IP):\n",
    "        seenUntilNow = self.count(IP)\n",
    "        \n",
    "        # Only save if more than two apperances otherwise trivial\n",
    "        if seenUntilNow >= 2:\n",
    "            self.frequentItem[IP] = seenUntilNow\n",
    "            \n",
    "        return(self.frequentItem)"
   ]
  },
  {
   "cell_type": "markdown",
   "metadata": {},
   "source": [
    "### Construct the count min sketch across all domains and track most frequent IPs"
   ]
  },
  {
   "cell_type": "code",
   "execution_count": 8,
   "metadata": {},
   "outputs": [],
   "source": [
    "web_traffic_stream = stream(STREAM_SIZE)\n",
    "\n",
    "epsilon = 0.00001\n",
    "delta = 0.001\n",
    "\n",
    "CMS = CountMinSketch(epsilon = epsilon, delta = delta)\n",
    "\n",
    "# Create dictionary that the current count of an elements (if it has been seen twice or more)\n",
    "mostFrequentElements = dict()\n",
    "\n",
    "for i in web_traffic_stream:\n",
    "    IP,domain = i.split(\"\\t\")\n",
    "    \n",
    "    # Update counters for relevant domain\n",
    "    countMinSketch = CMS.updateCountMinSketch(IP)\n",
    "    \n",
    "    # Construct most frequent dictionary\n",
    "    mostFrequentDict = CMS.countMostFrequentOnTheFly(IP)"
   ]
  },
  {
   "cell_type": "markdown",
   "metadata": {},
   "source": [
    "### Construct the count min sketch for each domain"
   ]
  },
  {
   "cell_type": "markdown",
   "metadata": {},
   "source": [
    "Assuming the number of unqiue domains is low, it is possible to consturct a CountMin sketch for each domain without memory problems."
   ]
  },
  {
   "cell_type": "code",
   "execution_count": 9,
   "metadata": {},
   "outputs": [],
   "source": [
    "web_traffic_stream = stream(STREAM_SIZE)\n",
    "\n",
    "epsilon = 0.00001\n",
    "delta = 0.001\n",
    "\n",
    "CMS = CountMinSketch(epsilon = epsilon, delta = delta)\n",
    "\n",
    "# Dictionary with a CountMinSketch for each domain\n",
    "countMinDictionary = dict()\n",
    "\n",
    "# dictionary with the total number of elements for each domain\n",
    "numerOfElementsWithDomain = dict()\n",
    "\n",
    "for i in web_traffic_stream:\n",
    "    IP,domain = i.split(\"\\t\")\n",
    "    \n",
    "    # Check if domain has been seen before\n",
    "    if domain not in countMinDictionary:\n",
    "        countMinDictionary[domain] = np.zeros((CMS.d,CMS.w))\n",
    "        numerOfElementsWithDomain[domain] = 0\n",
    "        \n",
    "     # We get a unique M for each domain, so we set M in HLL class\n",
    "    CMS.M = countMinDictionary[domain]\n",
    "    \n",
    "    # Update counters for relevant domain\n",
    "    countMinDictionary[domain] = CMS.updateCountMinSketch(IP)\n",
    "    numerOfElementsWithDomain[domain] += 1"
   ]
  },
  {
   "cell_type": "markdown",
   "metadata": {},
   "source": [
    "# Analysis"
   ]
  },
  {
   "cell_type": "markdown",
   "metadata": {},
   "source": [
    "The accuracy analysis and parameter choices for HyperLogLog and CountMinSketch has been executed using the two articles linked below. <br> CountMinSkecth: http://dimacs.rutgers.edu/~graham/pubs/papers/cm-full.pdf <br>\n",
    "HyperLogLog: http://algo.inria.fr/flajolet/Publications/FlFuGaMe07.pdf"
   ]
  },
  {
   "cell_type": "markdown",
   "metadata": {},
   "source": [
    "### 1) How many unique IPs are there in the stream?\n",
    "The register was found in the section \"HyperLogLog register across all domains\". Using the data structure of $\\texttt{MIPall}$ it is easy to find the estimate of count for unique IPs using the $\\texttt{HLL.count()}$ function of the HyperLogLog class, calculating the harmonic mean."
   ]
  },
  {
   "cell_type": "code",
   "execution_count": 10,
   "metadata": {},
   "outputs": [
    {
     "data": {
      "text/plain": [
       "93056.0"
      ]
     },
     "execution_count": 10,
     "metadata": {},
     "output_type": "execute_result"
    }
   ],
   "source": [
    "# Count the number of unique IPs based on MIPall\n",
    "HLL.M = MIPall\n",
    "round(HLL.count())"
   ]
  },
  {
   "cell_type": "markdown",
   "metadata": {},
   "source": [
    "Using the standard error $\\sigma = E\\frac{\\beta_m}{\\sqrt{m}}$, where $b_m \\sim 1.04$, we can find a likely confidence interval for the number of unique IPs in the stream, this is shown below, also included is the standard deviation:"
   ]
  },
  {
   "cell_type": "code",
   "execution_count": 11,
   "metadata": {},
   "outputs": [
    {
     "data": {
      "text/plain": [
       "(84502, 93056, 101611, 'Std of estimation: 8554.1')"
      ]
     },
     "execution_count": 11,
     "metadata": {},
     "output_type": "execute_result"
    }
   ],
   "source": [
    "HLL.confint(95)"
   ]
  },
  {
   "cell_type": "markdown",
   "metadata": {},
   "source": [
    "Our best estimate of the number of unique IPs is 93056 while the true value with probability $95\\%$ is within the interval $[84502;101611]$."
   ]
  },
  {
   "cell_type": "markdown",
   "metadata": {},
   "source": [
    "### 2) How many unique IPs are there for each domain?\n",
    "\n",
    "The M register is found for each domain. The same parameter $b=9$ is used for them all."
   ]
  },
  {
   "cell_type": "code",
   "execution_count": 12,
   "metadata": {},
   "outputs": [],
   "source": [
    "E_Domain={}\n",
    "Sd_Domain={}\n",
    "\n",
    "# Query for each domain\n",
    "for domain, M in MforEachUniqueDomain.items():\n",
    "    # Update registers for each domain\n",
    "    HLL.M=M\n",
    "    # Find estimate for each domain using the HLL class\n",
    "    E_Domain[domain]=int(round(HLL.count()))\n",
    "    # Standard deviation for each domain\n",
    "    Sd_Domain[domain]=round(HLL.count()/np.sqrt(HLL.m),3)"
   ]
  },
  {
   "cell_type": "markdown",
   "metadata": {},
   "source": [
    "An estimate of the count of unique IPs for each domain is found below."
   ]
  },
  {
   "cell_type": "code",
   "execution_count": 13,
   "metadata": {},
   "outputs": [
    {
     "data": {
      "text/plain": [
       "{'python.org': 23328,\n",
       " 'wikipedia.org': 51027,\n",
       " 'pandas.pydata.org': 13278,\n",
       " 'dtu.dk': 2605,\n",
       " 'google.com': 2727,\n",
       " 'databricks.com': 1280,\n",
       " 'github.com': 1305,\n",
       " 'spark.apache.org': 502,\n",
       " 'datarobot.com': 241,\n",
       " 'scala-lang.org': 1}"
      ]
     },
     "execution_count": 13,
     "metadata": {},
     "output_type": "execute_result"
    }
   ],
   "source": [
    "E_Domain"
   ]
  },
  {
   "cell_type": "markdown",
   "metadata": {},
   "source": [
    "Meanwhile, the standard deviation of the estimates are found to be the following approximations. As expected the absolute standard deviation increases the more IPs one observe. The absolute error is increasing the more unique IPs in the domain, but the relative error is identical for each of the domains due to $\\sigma=\\frac{1.04}{\\sqrt{m}}$, where the same $m$ is used for each of the domains."
   ]
  },
  {
   "cell_type": "code",
   "execution_count": 14,
   "metadata": {},
   "outputs": [
    {
     "data": {
      "text/plain": [
       "{'python.org': 1030.948,\n",
       " 'wikipedia.org': 2255.096,\n",
       " 'pandas.pydata.org': 586.791,\n",
       " 'dtu.dk': 115.147,\n",
       " 'google.com': 120.524,\n",
       " 'databricks.com': 56.583,\n",
       " 'github.com': 57.683,\n",
       " 'spark.apache.org': 22.194,\n",
       " 'datarobot.com': 10.635,\n",
       " 'scala-lang.org': 0.044}"
      ]
     },
     "execution_count": 14,
     "metadata": {},
     "output_type": "execute_result"
    }
   ],
   "source": [
    "Sd_Domain"
   ]
  },
  {
   "cell_type": "markdown",
   "metadata": {},
   "source": [
    "### 3) How many times was IP X seen on domain Y?"
   ]
  },
  {
   "cell_type": "markdown",
   "metadata": {},
   "source": [
    "Based on the countMin sketch for each domain constructed above and the implemented count() function, we can now find an estimate of the frequency of a given IP on a specific domain."
   ]
  },
  {
   "cell_type": "code",
   "execution_count": 15,
   "metadata": {},
   "outputs": [],
   "source": [
    "# Define a query function to easily find the number of\n",
    "# visits from a given IP on a domain\n",
    "def queryIPonDomain(IP,domain,countMinDictionary):\n",
    "    \n",
    "    # Set the sketch associated with a domain a the working sketch for \n",
    "    # countMinSketch class instance.\n",
    "    CMS.M = countMinDictionary[domain]\n",
    "    return(CMS.count(IP))"
   ]
  },
  {
   "cell_type": "code",
   "execution_count": 16,
   "metadata": {},
   "outputs": [],
   "source": [
    "IP = '89.149.83.80'\n",
    "domain = 'python.org'\n",
    "count = queryIPonDomain(IP,domain,countMinDictionary)"
   ]
  },
  {
   "cell_type": "markdown",
   "metadata": {},
   "source": [
    "It is given that $\\hat{E} < E + \\epsilon N \\Leftrightarrow \\hat{E} - \\epsilon N < E$ with probability $\\delta$, where $\\hat{E}$ is the estimated frequency and $E$ is the true. Hence, we can compute a lower bound for the true value."
   ]
  },
  {
   "cell_type": "code",
   "execution_count": 17,
   "metadata": {},
   "outputs": [],
   "source": [
    "# Compte the lower \n",
    "lwrBound = count - epsilon * numerOfElementsWithDomain[domain]"
   ]
  },
  {
   "cell_type": "markdown",
   "metadata": {},
   "source": [
    "Furthermore, we know that countMinSketch never underestimatea the true value, $E <= \\hat{E}$. Hence an upper bound of the true value is just the the estimate. That is, we can conclude with probability $1-\\delta$ that the true value of the number of times the IP visited is within $\\left[\\hat{E} - \\epsilon N , \\hat{E} \\right]$."
   ]
  },
  {
   "cell_type": "code",
   "execution_count": 18,
   "metadata": {},
   "outputs": [
    {
     "data": {
      "text/plain": [
       "(0.73715, 1.0)"
      ]
     },
     "execution_count": 18,
     "metadata": {},
     "output_type": "execute_result"
    }
   ],
   "source": [
    "(lwrBound,count)"
   ]
  },
  {
   "cell_type": "markdown",
   "metadata": {},
   "source": [
    "In this case the interval is very narrow, due to the very low frequencies of ach IP adress. Since the number of visits is an integer, we are $1-\\delta$ percent sure, that the IP visisted the domain once."
   ]
  },
  {
   "cell_type": "markdown",
   "metadata": {},
   "source": [
    "### 4) How many unique IPs are there for the domains $d_1, d_2, \\ldots$?"
   ]
  },
  {
   "cell_type": "markdown",
   "metadata": {},
   "source": [
    "There are more ways to do this. Two solutions can be implemented. Either a filter can be used, which filters the stream or the union of the M registers can be found. Due to having to loop over each stream given a new domain is specified, the filter approach did not seem optimal. Therefore the union of the M registers is used, it only requires that the M register is found for each domain, which was done earlier in the report. The property of the union holds for the HLL, because the same hash function is used. This means that domains with the same IP will be mapped to the same index and value in $M$. This implies having different IPs should end up in different buckets of the M register. A general M for different domains $d_i$ can be formulated the following way:\n",
    "$$M_{d_1,d_2,..,d_i}=max(M_{d_1} \\cup M_{d_2} \\cup,...,\\cup M_{d_i} ,p) $$\n",
    "So only the max value of the union of all the M registers will be stored and it will take $\\mathcal{O}(m)$ time. The result (74451) is the count using the union property."
   ]
  },
  {
   "cell_type": "code",
   "execution_count": 19,
   "metadata": {},
   "outputs": [
    {
     "data": {
      "text/plain": [
       "74451.38674782394"
      ]
     },
     "execution_count": 19,
     "metadata": {},
     "output_type": "execute_result"
    }
   ],
   "source": [
    "HLL.unionCount([\"wikipedia.org\", \"python.org\"], MforEachUniqueDomain)"
   ]
  },
  {
   "cell_type": "markdown",
   "metadata": {},
   "source": [
    "Like before we can find a confidence interval for the count of the union of \"wikipedia.org\" and \"python.org\", below the 95% confidence interval is shown:"
   ]
  },
  {
   "cell_type": "code",
   "execution_count": 20,
   "metadata": {},
   "outputs": [
    {
     "data": {
      "text/plain": [
       "(67607, 74451, 81296, 'Std of estimation: 6843.9')"
      ]
     },
     "execution_count": 20,
     "metadata": {},
     "output_type": "execute_result"
    }
   ],
   "source": [
    "HLL.confint(95)"
   ]
  },
  {
   "cell_type": "markdown",
   "metadata": {},
   "source": [
    "### 5) How many times was IP X seen on domains $d_1, d_2, \\ldots$?"
   ]
  },
  {
   "cell_type": "code",
   "execution_count": 21,
   "metadata": {},
   "outputs": [],
   "source": [
    "def visitsAcrossDomains(IP,domains,sketchDictionary,numerOfElementsWithDomain):\n",
    "    totalCount = 0\n",
    "    totalLwrBound = 0\n",
    "    for domain in domains:\n",
    "        \n",
    "        # Set the sketch in the class to the one associated with the domai\n",
    "        CMS.M = countMinDictionary[domain]\n",
    "        count = CMS.count(IP)\n",
    "        \n",
    "        # Sum the count from each domain sketch\n",
    "        totalCount += count\n",
    "        \n",
    "        # Sum up the lower bound associated with each of the domains\n",
    "        totalLwrBound += count - epsilon * numerOfElementsWithDomain[domain]\n",
    "    return totalCount, totalLwrBound"
   ]
  },
  {
   "cell_type": "code",
   "execution_count": 22,
   "metadata": {},
   "outputs": [],
   "source": [
    "X = '108.41.112.108'\n",
    "Y = [\"wikipedia.org\",\"python.org\",'pandas.pydata.org','spark.apache.org']\n",
    "totalCount, totalLwrBound = visitsAcrossDomains(X,Y, countMinDictionary,numerOfElementsWithDomain)"
   ]
  },
  {
   "cell_type": "markdown",
   "metadata": {},
   "source": [
    "The number of times the IP adress, '108.41.112.108', occured on the domains is found to be 27, the same $\\epsilon$ and $\\delta$ is used:"
   ]
  },
  {
   "cell_type": "code",
   "execution_count": 23,
   "metadata": {},
   "outputs": [
    {
     "data": {
      "text/plain": [
       "(26.0815, 27.0)"
      ]
     },
     "execution_count": 23,
     "metadata": {},
     "output_type": "execute_result"
    }
   ],
   "source": [
    "(totalLwrBound , totalCount)"
   ]
  },
  {
   "cell_type": "markdown",
   "metadata": {},
   "source": [
    "### 6) What are the X most frequent IPs in the stream?"
   ]
  },
  {
   "cell_type": "code",
   "execution_count": 24,
   "metadata": {},
   "outputs": [],
   "source": [
    "# Consider returning all that \"shares\" the same frequency\n",
    "def getMostFrequent(X,mostFrequentDict):\n",
    "    \n",
    "    # Extract the frequency of all elements occuring more than 2 times\n",
    "    frequencies = list(mostFrequentDict.values())\n",
    "    IPs = list(mostFrequentDict.keys())\n",
    "    \n",
    "    # Sort the IPs according to the frequencies\n",
    "    sortedList = [x for _,x in sorted(zip(frequencies,IPs),reverse=True)]\n",
    "    return(sortedList[:X])"
   ]
  },
  {
   "cell_type": "code",
   "execution_count": 25,
   "metadata": {},
   "outputs": [
    {
     "data": {
      "text/plain": [
       "['108.41.112.108',\n",
       " '72.187.84.158',\n",
       " '54.29.199.129',\n",
       " '56.29.201.129',\n",
       " '56.29.200.127',\n",
       " '204.141.72.187',\n",
       " '58.31.199.126',\n",
       " '57.30.198.127',\n",
       " '56.29.201.127',\n",
       " '56.28.199.129']"
      ]
     },
     "execution_count": 25,
     "metadata": {},
     "output_type": "execute_result"
    }
   ],
   "source": [
    "X = 10\n",
    "getMostFrequent(X,mostFrequentDict)"
   ]
  },
  {
   "cell_type": "markdown",
   "metadata": {},
   "source": [
    "It should be noted, that this list is an approximation, since there is a potential risk that e.q. the top IP has only occured once or a few times. This can in the following way: Say we have gone through $\\texttt{STREAM_SIZE}-1$ elements from the stream and '72.187.84.158' is leading the score list of most occurences with e.g. 27. Then the last element '108.41.112.108' hashes to all the same values as '72.187.84.158' (very unlikely!), then '72.187.84.158' will get the score of 28 occurences and will by mistake be scored as the most frequent item in the stream. Again, this is very unlikely to happen, but for very long streams and if d is too low, this is plausible."
   ]
  },
  {
   "cell_type": "markdown",
   "metadata": {},
   "source": [
    "## Choice of parameters"
   ]
  },
  {
   "cell_type": "markdown",
   "metadata": {},
   "source": [
    "#### HyperLogLog"
   ]
  },
  {
   "cell_type": "markdown",
   "metadata": {},
   "source": [
    "For the HyperLogLog class the only parameter to choose is $b$. Notice that $m=2^b$ so $b$ increases $m$ exponentially. This means for a larger $b$, the memory usage will increase exponentially, since $M$ register is defined by the number $m$. The increased size of $M$ registers will also make the standard deviation decrease, due to $\\sigma=\\frac{1.04}{\\sqrt(m)}$, this means a more precise result can be expected, simply because of the central limit theorem and the averaging effect. Once again it therefore comes down to the trade off between memory usage and precision. In our case we chose $b=9$, this left us with a list of 512 elements for each $M$ and a relative error of approximately $0.046$. A better precision could have been achieved using a higher $b$, but having such a small list is highly memory and time efficient. One should therefore choose $b$ based on a combination of error tolerance and acceptable memory usage."
   ]
  },
  {
   "cell_type": "code",
   "execution_count": 26,
   "metadata": {},
   "outputs": [
    {
     "data": {
      "image/png": "[encoded data removed]",
      "text/plain": [
       "<Figure size 576x432 with 2 Axes>"
      ]
     },
     "metadata": {
      "needs_background": "light"
     },
     "output_type": "display_data"
    }
   ],
   "source": [
    "plt.figure(figsize=(8, 6))\n",
    "plt.subplot(2, 2, 1)\n",
    "plt.plot(range(1,20),[2**i for i in range(1,20)])\n",
    "plt.xlabel(\"b\")\n",
    "plt.ylabel(\"Memory Usage\")\n",
    "plt.subplot(2, 2, 2)\n",
    "plt.plot(range(1,20),[1.04/np.sqrt(2**i) for i in range(1,20)])\n",
    "plt.xlabel(\"b\")\n",
    "plt.ylabel(\"Relative Error\")\n",
    "plt.suptitle(\"Memory/Error trade-off\")\n",
    "plt.show()"
   ]
  },
  {
   "cell_type": "markdown",
   "metadata": {},
   "source": [
    "#### CountMin"
   ]
  },
  {
   "cell_type": "markdown",
   "metadata": {},
   "source": [
    "For the CountMin sketch one can choose two parameters, $\\delta$ and $\\epsilon$. These control the precision of the sketch. The smaller one makes $\\delta$ and $\\epsilon$, the closer to an explicit representation of $M$ one gets to, thus using more memory. $1-\\delta$ is the prbability that the estimate is within $\\epsilon$ factors from the true count. Through trial and error we landed at satisfactory values for the parameters at $\\delta$ = 0.001 and $\\epsilon$ = 0.00001 . Lower values of $\\epsilon$ did provide even better results, but because the memory/error trade off the currrent value was deemed sufficient."
   ]
  },
  {
   "cell_type": "code",
   "execution_count": 28,
   "metadata": {},
   "outputs": [
    {
     "data": {
      "image/png": "[encoded data removed]",
      "text/plain": [
       "<Figure size 720x432 with 2 Axes>"
      ]
     },
     "metadata": {
      "needs_background": "light"
     },
     "output_type": "display_data"
    }
   ],
   "source": [
    "plt.figure(figsize=(10, 6))\n",
    "plt.subplot(2, 2, 1)\n",
    "plt.plot(np.arange(0.000001,0.0001,0.000001),[(1/i *(np.log(1/0.001))) for i in np.arange(0.000001,0.0001,0.000001)])\n",
    "plt.xlabel(\"epsilon\")\n",
    "plt.ylabel(\"Memory Usage\")\n",
    "plt.subplot(2, 2, 2)\n",
    "plt.plot(np.arange(0.0001,0.01,0.0001),[(1/0.00001 *(np.log(1/i))) for i in np.arange(0.0001,0.01,0.0001)])\n",
    "plt.xlabel(\"delta\")\n",
    "plt.show()"
   ]
  }
 ],
 "metadata": {
  "kernelspec": {
   "display_name": "Python 3",
   "language": "python",
   "name": "python3"
  },
  "language_info": {
   "codemirror_mode": {
    "name": "ipython",
    "version": 3
   },
   "file_extension": ".py",
   "mimetype": "text/x-python",
   "name": "python",
   "nbconvert_exporter": "python",
   "pygments_lexer": "ipython3",
   "version": "3.7.3"
  }
 },
 "nbformat": 4,
 "nbformat_minor": 2
}
